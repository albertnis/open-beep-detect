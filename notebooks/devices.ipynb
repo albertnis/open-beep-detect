{
 "cells": [
  {
   "cell_type": "code",
   "execution_count": null,
   "metadata": {},
   "outputs": [],
   "source": [
    "import pyaudio\n",
    "\n",
    "pa = pyaudio.PyAudio()\n",
    "print('default output', pa.get_default_output_device_info())\n",
    "print('default input', pa.get_default_input_device_info())\n",
    "for i in range(pa.get_device_count()):\n",
    "  print(pa.get_device_info_by_index(i))"
   ]
  }
 ],
 "metadata": {
  "kernelspec": {
   "display_name": ".venv",
   "language": "python",
   "name": "python3"
  },
  "language_info": {
   "codemirror_mode": {
    "name": "ipython",
    "version": 3
   },
   "file_extension": ".py",
   "mimetype": "text/x-python",
   "name": "python",
   "nbconvert_exporter": "python",
   "pygments_lexer": "ipython3",
   "version": "3.10.10"
  },
  "orig_nbformat": 4
 },
 "nbformat": 4,
 "nbformat_minor": 2
}
